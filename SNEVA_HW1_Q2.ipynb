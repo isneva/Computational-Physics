{
 "cells": [
  {
   "cell_type": "code",
   "execution_count": 1,
   "id": "fc705ecf",
   "metadata": {},
   "outputs": [],
   "source": [
    "import numpy as np"
   ]
  },
  {
   "cell_type": "code",
   "execution_count": 17,
   "id": "c132b195",
   "metadata": {},
   "outputs": [
    {
     "name": "stdout",
     "output_type": "stream",
     "text": [
      "The root of the quadratic equation are x = -9.999894245993346e-07 and x = -999999.999999\n",
      "The root of the quadratic equation are x = -1.000000000001e-06 and x = -1000010.5755125057\n",
      "The roots of the quadratic equation are x = -1.000000000001e-06and x = -999999.999999\n"
     ]
    }
   ],
   "source": [
    "#2a\n",
    "\n",
    "def quad():                                                                               #function for the quadratic equation\n",
    "    x1 = (-b+ np.sqrt(b**2-(4*a*c)))/(2*a)                                                #root with addition of square root\n",
    "    x2 = (-b- np.sqrt(b**2-(4*a*c)))/(2*a)                                                #root with subtraction of square root\n",
    "    print('The root of the quadratic equation are x = ' +str(x1) + ' and x = ' +str(x2))  #print statement for the two roots calculated by the function\n",
    "\n",
    "#2b\n",
    "               \n",
    "def quad_inv():                                                                            #function for the inverse quadratic eq                                   \n",
    "    x3 = (2*c)/(-b-np.sqrt(b**2-(4*a*c)))                                                  #root with subtraction of square root\n",
    "    x4 = (2*c)/(-b+ np.sqrt(b**2-(4*a*c)))                                                 #root with addition of square root\n",
    "    print('The root of the quadratic equation are x = ' +str(x3) + ' and x = ' +str(x4))\n",
    "\n",
    "#constants pulled through from above\n",
    "\n",
    "def accurate_quad():\n",
    "    root = np.sqrt(b**2 - 4*a*c)\n",
    "    if -b + root < .001:\n",
    "        x5 = (2*c)/(-b-np.sqrt(b**2-(4*a*c)))\n",
    "        x6 = (-b- np.sqrt(b**2-(4*a*c)))/(2*a)\n",
    "    else:                                                                                 #use of normal quadratic eq. when \n",
    "        x5 = (-b+ np.sqrt(b**2-(4*a*c)))/(2*a)\n",
    "        x6 = (-b- np.sqrt(b**2-(4*a*c)))/(2*a)\n",
    "    print('The roots of the quadratic equation are x = ' +str(x5) + 'and x = ' +str(x6))\n",
    "\n",
    "\n",
    "#constants\n",
    "a = .001                                      #x**2 value\n",
    "b = 1000                                      #x value\n",
    "c = .001                                      #constant value\n",
    "\n",
    "quad()\n",
    "quad_inv()\n",
    "accurate_quad()"
   ]
  }
 ],
 "metadata": {
  "kernelspec": {
   "display_name": "Python 3 (ipykernel)",
   "language": "python",
   "name": "python3"
  },
  "language_info": {
   "codemirror_mode": {
    "name": "ipython",
    "version": 3
   },
   "file_extension": ".py",
   "mimetype": "text/x-python",
   "name": "python",
   "nbconvert_exporter": "python",
   "pygments_lexer": "ipython3",
   "version": "3.9.13"
  }
 },
 "nbformat": 4,
 "nbformat_minor": 5
}
